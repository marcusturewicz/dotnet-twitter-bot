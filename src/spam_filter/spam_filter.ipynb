{
 "cells": [
  {
   "cell_type": "code",
   "execution_count": null,
   "source": [
    "import os\n",
    "from snorkel.labeling import labeling_function\n",
    "import pandas as pd\n",
    "from snorkel.labeling import PandasLFApplier\n",
    "from snorkel.labeling import LFAnalysis\n",
    "from snorkel.analysis import get_label_buckets\n",
    "from snorkel.labeling.model import MajorityLabelVoter\n",
    "from snorkel.labeling.model import LabelModel\n",
    "from snorkel.labeling import filter_unlabeled_dataframe\n",
    "from snorkel.utils import probs_to_preds\n",
    "import matplotlib.pyplot as plt\n",
    "from sklearn.feature_extraction.text import CountVectorizer\n",
    "from sklearn.ensemble import GradientBoostingClassifier\n",
    "from sklearn.pipeline import Pipeline\n",
    "from sklearn.metrics import classification_report\n",
    "from skl2onnx import convert_sklearn\n",
    "from skl2onnx.common.data_types import StringTensorType\n",
    "\n",
    "\n",
    "%matplotlib inline"
   ],
   "outputs": [],
   "metadata": {}
  },
  {
   "cell_type": "code",
   "execution_count": null,
   "source": [
    "# Turn off TensorFlow logging messages\n",
    "os.environ[\"TF_CPP_MIN_LOG_LEVEL\"] = \"3\"\n",
    "\n",
    "# For reproducibility\n",
    "os.environ[\"PYTHONHASHSEED\"] = \"0\""
   ],
   "outputs": [],
   "metadata": {}
  },
  {
   "cell_type": "code",
   "execution_count": null,
   "source": [
    "df = pd.read_excel('/Users/marcusturewicz/Downloads/tweets.xlsx')\n",
    "\n",
    "df = df[['Label', 'Text', 'Language', 'Hashtags', 'URLs', 'Mentions', 'Media Type']]\n",
    "\n",
    "df_test = df[(df['Label'] == 1) | (df['Label'] == 0)]\n",
    "df_train = df[(df['Label'] == -1)]\n",
    "\n",
    "Y_test = df_test['Label'].values"
   ],
   "outputs": [],
   "metadata": {}
  },
  {
   "cell_type": "code",
   "execution_count": null,
   "source": [
    "print(len(df))"
   ],
   "outputs": [],
   "metadata": {}
  },
  {
   "cell_type": "code",
   "execution_count": null,
   "source": [
    "df_train"
   ],
   "outputs": [],
   "metadata": {}
  },
  {
   "cell_type": "code",
   "execution_count": null,
   "source": [
    "df[['Text', 'Hashtags']].sample(50, random_state=2)"
   ],
   "outputs": [],
   "metadata": {}
  },
  {
   "cell_type": "code",
   "execution_count": null,
   "source": [
    "ABSTAIN = -1\n",
    "HAM = 0\n",
    "SPAM = 1"
   ],
   "outputs": [],
   "metadata": {}
  },
  {
   "cell_type": "code",
   "execution_count": null,
   "source": [
    "@labeling_function()\n",
    "def hiring(x):\n",
    "    return SPAM if \"hiring\" in x['Text'].lower() else ABSTAIN\n",
    "\n",
    "@labeling_function()\n",
    "def hire(x):\n",
    "    return SPAM if \"hire\" in x['Text'].lower() else ABSTAIN    \n",
    "\n",
    "@labeling_function()\n",
    "def job(x):\n",
    "    return SPAM if \"job\" in x['Text'].lower() else ABSTAIN\n",
    "\n",
    "@labeling_function()\n",
    "def career(x):\n",
    "    return SPAM if \"career\" in x['Text'].lower() else ABSTAIN\n",
    "\n",
    "@labeling_function()\n",
    "def offer(x):\n",
    "    return SPAM if \"offer\" in x['Text'].lower() else ABSTAIN\n",
    "\n",
    "@labeling_function()\n",
    "def candidate(x):\n",
    "    return SPAM if \"candidate\" in x['Text'].lower() else ABSTAIN       \n",
    "\n",
    "@labeling_function()\n",
    "def money(x):\n",
    "    return SPAM if \"$\" in x['Text'].lower() else ABSTAIN\n",
    "\n",
    "@labeling_function()\n",
    "def percent(x):\n",
    "    return SPAM if \"%\" in x['Text'].lower() else ABSTAIN\n",
    "\n",
    "@labeling_function()\n",
    "def exclaim(x):\n",
    "    return SPAM if \"!\" in x['Text'].lower() else ABSTAIN  \n",
    "\n",
    "@labeling_function()\n",
    "def links(x):\n",
    "    return SPAM if x['Text'].count('http') > 2 else ABSTAIN       \n",
    "\n",
    "@labeling_function()\n",
    "def visit(x):\n",
    "    return SPAM if \"visit\" in x['Text'].lower() else ABSTAIN     \n",
    "\n",
    "@labeling_function()\n",
    "def subscribe(x):\n",
    "    return SPAM if \"subscribe\" in x['Text'].lower() else ABSTAIN\n",
    "\n",
    "@labeling_function()\n",
    "def firewall(x):\n",
    "    return SPAM if \"firewall\" in x['Text'].lower() else ABSTAIN    \n",
    "\n",
    "@labeling_function()\n",
    "def blockchain(x):\n",
    "    return SPAM if \"blockchain\" in x['Text'].lower() else ABSTAIN       \n",
    "\n",
    "@labeling_function()\n",
    "def crypto(x):\n",
    "    return SPAM if \"crypto\" in x['Text'].lower() else ABSTAIN           \n",
    "\n",
    "@labeling_function()\n",
    "def buy(x):\n",
    "    return SPAM if \"buy\" in x['Text'].lower() else ABSTAIN\n",
    "\n",
    "@labeling_function()\n",
    "def free(x):\n",
    "    return SPAM if \"free\" in x['Text'].lower() else ABSTAIN\n",
    "\n",
    "@labeling_function()\n",
    "def sale(x):\n",
    "    return SPAM if 'sale' in x['Text'].lower() else ABSTAIN      \n",
    "\n",
    "@labeling_function()\n",
    "def today(x):\n",
    "    return SPAM if \"today\" in x['Text'].lower() else ABSTAIN           \n",
    "\n",
    "@labeling_function()\n",
    "def hashtags(x):\n",
    "    return SPAM if x['Hashtags'] > 8 else ABSTAIN   \n",
    "\n",
    "@labeling_function()\n",
    "def minimal_hashtags(x):\n",
    "    return HAM if x['Hashtags'] < 5 else ABSTAIN       \n",
    "\n",
    "@labeling_function()\n",
    "def mentions(x):\n",
    "    return SPAM if x['Mentions'] > 2 else ABSTAIN\n",
    "\n",
    "@labeling_function()\n",
    "def lang_und(x):\n",
    "    return SPAM if x['Language'] == 'und' else ABSTAIN\n",
    "\n",
    "@labeling_function()\n",
    "def net(x):\n",
    "    return HAM if ' .net ' in x['Text'].lower() else ABSTAIN\n",
    "\n",
    "@labeling_function()\n",
    "def nuget(x):\n",
    "    return HAM if 'nuget' in x['Text'].lower() else ABSTAIN       \n",
    "\n",
    "@labeling_function()\n",
    "def at_dotnet(x):\n",
    "    return HAM if x['Text'].startswith('RT @dotnet') else ABSTAIN    "
   ],
   "outputs": [],
   "metadata": {}
  },
  {
   "cell_type": "code",
   "execution_count": null,
   "source": [
    "lfs = [hiring, hire, job, career, offer, candidate, money, percent, exclaim, visit, subscribe, firewall, buy, free, today, blockchain, crypto, hashtags, sale, mentions, lang_und, minimal_hashtags, net, nuget, at_dotnet]\n",
    "\n",
    "applier = PandasLFApplier(lfs=lfs)\n",
    "L_train = applier.apply(df=df_train)"
   ],
   "outputs": [],
   "metadata": {}
  },
  {
   "cell_type": "code",
   "execution_count": null,
   "source": [
    "L_train"
   ],
   "outputs": [],
   "metadata": {}
  },
  {
   "cell_type": "code",
   "execution_count": null,
   "source": [
    "LFAnalysis(L=L_train, lfs=lfs).lf_summary()"
   ],
   "outputs": [],
   "metadata": {}
  },
  {
   "cell_type": "code",
   "execution_count": null,
   "source": [
    "df_train.iloc[L_train[:, 1] == SPAM].sample(10, random_state=1)[['Text', 'Hashtags', 'Label']]"
   ],
   "outputs": [],
   "metadata": {}
  },
  {
   "cell_type": "code",
   "execution_count": null,
   "source": [
    "buckets = get_label_buckets(L_train[:, 0], L_train[:, 1])\n",
    "df_train.iloc[buckets[(ABSTAIN, SPAM)]].sample(10, random_state=1)"
   ],
   "outputs": [],
   "metadata": {}
  },
  {
   "cell_type": "code",
   "execution_count": null,
   "source": [
    "L_test = applier.apply(df=df_test)"
   ],
   "outputs": [],
   "metadata": {}
  },
  {
   "cell_type": "code",
   "execution_count": null,
   "source": [
    "LFAnalysis(L=L_train, lfs=lfs).lf_summary()"
   ],
   "outputs": [],
   "metadata": {}
  },
  {
   "cell_type": "code",
   "execution_count": null,
   "source": [
    "def plot_label_frequency(L):\n",
    "    plt.hist((L != ABSTAIN).sum(axis=1), density=True, bins=range(L.shape[1]))\n",
    "    plt.xlabel(\"Number of labels\")\n",
    "    plt.ylabel(\"Fraction of dataset\")\n",
    "    plt.show()\n",
    "\n",
    "\n",
    "plot_label_frequency(L_train)"
   ],
   "outputs": [],
   "metadata": {}
  },
  {
   "cell_type": "code",
   "execution_count": null,
   "source": [
    "majority_model = MajorityLabelVoter()\n",
    "preds_train = majority_model.predict(L=L_train)"
   ],
   "outputs": [],
   "metadata": {}
  },
  {
   "cell_type": "code",
   "execution_count": null,
   "source": [
    "label_model = LabelModel(cardinality=2, verbose=True)\n",
    "label_model.fit(L_train=L_train, n_epochs=500, log_freq=100, seed=123)"
   ],
   "outputs": [],
   "metadata": {}
  },
  {
   "cell_type": "code",
   "execution_count": null,
   "source": [
    "majority_acc = majority_model.score(L=L_test, Y=Y_test, tie_break_policy=\"random\")[\n",
    "    \"accuracy\"\n",
    "]\n",
    "print(f\"{'Majority Vote Accuracy:':<25} {majority_acc * 100:.1f}%\")\n",
    "\n",
    "label_model_acc = label_model.score(L=L_test, Y=Y_test, tie_break_policy=\"random\")[\n",
    "    \"accuracy\"\n",
    "]\n",
    "print(f\"{'Label Model Accuracy:':<25} {label_model_acc * 100:.1f}%\")"
   ],
   "outputs": [],
   "metadata": {}
  },
  {
   "cell_type": "code",
   "execution_count": null,
   "source": [
    "def plot_probabilities_histogram(Y):\n",
    "    plt.hist(Y, bins=10)\n",
    "    plt.xlabel(\"Probability of SPAM\")\n",
    "    plt.ylabel(\"Number of data points\")\n",
    "    plt.show()\n",
    "\n",
    "\n",
    "probs_train = label_model.predict_proba(L=L_train)\n",
    "plot_probabilities_histogram(probs_train[:, SPAM])"
   ],
   "outputs": [],
   "metadata": {}
  },
  {
   "cell_type": "code",
   "execution_count": null,
   "source": [
    "df_train_filtered, probs_train_filtered = filter_unlabeled_dataframe(\n",
    "    X=df_train, y=probs_train, L=L_train\n",
    ")"
   ],
   "outputs": [],
   "metadata": {}
  },
  {
   "cell_type": "code",
   "execution_count": null,
   "source": [
    "vectorizer = CountVectorizer(ngram_range=(1, 5))"
   ],
   "outputs": [],
   "metadata": {}
  },
  {
   "cell_type": "code",
   "execution_count": null,
   "source": [
    "X_train = df_train_filtered['Text'].tolist()\n",
    "X_test = df_test['Text'].tolist()"
   ],
   "outputs": [],
   "metadata": {}
  },
  {
   "cell_type": "code",
   "execution_count": null,
   "source": [
    "preds_train_filtered = probs_to_preds(probs=probs_train_filtered)"
   ],
   "outputs": [],
   "metadata": {}
  },
  {
   "cell_type": "code",
   "execution_count": null,
   "source": [
    "sklearn_model = GradientBoostingClassifier(n_estimators=100, learning_rate=1.0, max_depth=1, random_state=0)"
   ],
   "outputs": [],
   "metadata": {}
  },
  {
   "cell_type": "code",
   "execution_count": null,
   "source": [
    "pipe = Pipeline([(\"vectorizer\", vectorizer), (\"model\", sklearn_model)])\n",
    "pipe.fit(X=X_train, y=preds_train_filtered)"
   ],
   "outputs": [],
   "metadata": {}
  },
  {
   "cell_type": "code",
   "execution_count": null,
   "source": [
    "print(f\"Test Accuracy: {pipe.score(X=X_test, y=Y_test) * 100:.1f}%\")"
   ],
   "outputs": [],
   "metadata": {}
  },
  {
   "cell_type": "code",
   "execution_count": null,
   "source": [
    "Y_preds = pipe.predict(X=X_test)\n",
    "\n",
    "print(classification_report(Y_test, Y_preds))\n"
   ],
   "outputs": [],
   "metadata": {}
  },
  {
   "cell_type": "code",
   "execution_count": null,
   "source": [
    "test_text = \"\"\"#include<stdio.h>\n",
    "#include<conio.h>\n",
    "void main()\n",
    "{\n",
    "printf{\"#GaneshChaturthi #DBoss};\n",
    "getch()\n",
    "#forex #bot #AI #Website #CodeNewbie #women #hacker #flutter #python #100DaysOfCode #ad #WomenWhoCode #tech #css  #cybersecurity #Blockchain #DataScience #infosec #dotnet #ClimateAction\"\"\"\n",
    "\n",
    "pipe.predict(X=X_test)[0]"
   ],
   "outputs": [],
   "metadata": {}
  },
  {
   "cell_type": "code",
   "execution_count": null,
   "source": [
    "model_onnx = convert_sklearn(pipe, initial_types=[(\"input\", StringTensorType([None, 1]))])"
   ],
   "outputs": [],
   "metadata": {}
  },
  {
   "cell_type": "code",
   "execution_count": null,
   "source": [
    "with open(\"../DotNetTwitterBot/spam_filter.onnx\", \"wb\") as f:\n",
    "    f.write(model_onnx.SerializeToString())"
   ],
   "outputs": [],
   "metadata": {}
  }
 ],
 "metadata": {
  "orig_nbformat": 4,
  "language_info": {
   "name": "python",
   "version": "3.8.11",
   "mimetype": "text/x-python",
   "codemirror_mode": {
    "name": "ipython",
    "version": 3
   },
   "pygments_lexer": "ipython3",
   "nbconvert_exporter": "python",
   "file_extension": ".py"
  },
  "kernelspec": {
   "name": "python3",
   "display_name": "Python 3.8.11 64-bit ('spam-filter': conda)"
  },
  "interpreter": {
   "hash": "727ecc2913058fae709b863f3df1a2146d60979a14d811f8235231fa99aca9be"
  }
 },
 "nbformat": 4,
 "nbformat_minor": 2
}